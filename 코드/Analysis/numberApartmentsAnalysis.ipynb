{
 "cells": [
  {
   "cell_type": "code",
   "execution_count": 1,
   "id": "d2f97c20",
   "metadata": {},
   "outputs": [],
   "source": [
    "import numpy as np\n",
    "import pandas as pd\n",
    "import matplotlib.pyplot as plt\n",
    "from scipy.stats import norm\n",
    "from PIL import Image"
   ]
  },
  {
   "cell_type": "code",
   "execution_count": 2,
   "id": "a50a529d",
   "metadata": {},
   "outputs": [],
   "source": [
    "base_path = r'c:\\Users\\USER\\Desktop\\Git\\sci\\SCI\\데이터\\Table'\n",
    "table_1 = pd.read_csv(f'{base_path}\\\\table_1.csv')\n",
    "table_2 = pd.read_csv(f'{base_path}\\\\table_2.csv')\n",
    "table_3 = pd.read_csv(f'{base_path}\\\\table_3.csv')\n",
    "\n",
    "table_merge = pd.merge(table_1, table_3, how='left', on='aid')\n",
    "table_merge = pd.merge(table_merge, table_2, how='left', on='did')\n",
    "\n",
    "table_merge['gu'] = table_merge['location'].str.split().str[1]\n",
    "table_merge['dong'] = table_merge['location'].str.split().str[2]"
   ]
  },
  {
   "cell_type": "code",
   "execution_count": 7,
   "id": "25f4c073",
   "metadata": {},
   "outputs": [
    {
     "data": {
      "text/plain": [
       "dong\n",
       "상계동      2411\n",
       "서초동      2137\n",
       "구로동      1828\n",
       "염창동      1568\n",
       "창동       1559\n",
       "         ... \n",
       "남현동        26\n",
       "신월동        22\n",
       "수송동        14\n",
       "노고산동        6\n",
       "용산동5가       2\n",
       "Name: count, Length: 138, dtype: int64"
      ]
     },
     "execution_count": 7,
     "metadata": {},
     "output_type": "execute_result"
    }
   ],
   "source": [
    "# 제일 많은 경우가 상계동, 제일 적은 경우가 노고산동\n",
    "table_merge['dong'].value_counts()"
   ]
  },
  {
   "cell_type": "code",
   "execution_count": null,
   "id": "3abad895",
   "metadata": {},
   "outputs": [],
   "source": []
  }
 ],
 "metadata": {
  "kernelspec": {
   "display_name": "base",
   "language": "python",
   "name": "python3"
  },
  "language_info": {
   "codemirror_mode": {
    "name": "ipython",
    "version": 3
   },
   "file_extension": ".py",
   "mimetype": "text/x-python",
   "name": "python",
   "nbconvert_exporter": "python",
   "pygments_lexer": "ipython3",
   "version": "3.12.3"
  }
 },
 "nbformat": 4,
 "nbformat_minor": 5
}
